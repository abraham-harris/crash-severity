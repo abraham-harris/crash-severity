{
 "cells": [
  {
   "cell_type": "code",
   "execution_count": 20,
   "metadata": {},
   "outputs": [],
   "source": [
    "import os\n",
    "import string\n",
    "import numpy as np\n",
    "import sklearn\n",
    "from scipy import sparse\n",
    "from sklearn import datasets\n",
    "from scipy import linalg as la\n",
    "from collections import Counter\n",
    "from matplotlib import pyplot as plt\n",
    "from scipy.sparse import linalg as spla\n",
    "from sklearn.pipeline import Pipeline\n",
    "from sklearn.decomposition import TruncatedSVD, PCA\n",
    "from sklearn.model_selection import GridSearchCV\n",
    "from sklearn.ensemble import RandomForestClassifier\n",
    "from sklearn.neighbors import KNeighborsClassifier\n",
    "from sklearn.preprocessing import StandardScaler\n",
    "from sklearn.model_selection import cross_validate\n",
    "import joblib\n",
    "from sklearn.model_selection import train_test_split\n",
    "from sklearn.metrics import classification_report\n",
    "from sklearn.metrics import confusion_matrix\n",
    "import numpy as np\n",
    "import sklearn\n",
    "from sklearn.tree import DecisionTreeClassifier\n",
    "from sklearn.datasets import fetch_openml\n",
    "from graphviz import Source\n",
    "import graphviz\n",
    "import pandas as pd\n",
    "import numpy as np\n",
    "from matplotlib import pyplot as plt\n",
    "import pandas as pd\n",
    "from time import time\n",
    "from scipy.linalg import svd\n",
    "import statsmodels.api as sm\n",
    "import statsmodels.formula.api as smf\n",
    "from sklearn.metrics import mean_squared_error, r2_score\n",
    "import statsmodels"
   ]
  },
  {
   "cell_type": "code",
   "execution_count": 8,
   "metadata": {},
   "outputs": [
    {
     "name": "stdout",
     "output_type": "stream",
     "text": [
      "Index(['Temperature(F)', 'Wind_Chill(F)', 'Visibility(mi)',\n",
      "       'Precipitation(in)', 'Wind_Speed(mph)', 'State_AL', 'State_AR',\n",
      "       'State_AZ', 'State_CA', 'State_CO',\n",
      "       ...\n",
      "       'Weather_Condition_Thunder and Hail / Windy',\n",
      "       'Weather_Condition_Thunder in the Vicinity',\n",
      "       'Weather_Condition_Thunderstorm',\n",
      "       'Weather_Condition_Thunderstorms and Rain',\n",
      "       'Weather_Condition_Thunderstorms and Snow', 'Weather_Condition_Tornado',\n",
      "       'Weather_Condition_Widespread Dust',\n",
      "       'Weather_Condition_Widespread Dust / Windy',\n",
      "       'Weather_Condition_Wintry Mix', 'Weather_Condition_Wintry Mix / Windy'],\n",
      "      dtype='object', length=181)\n"
     ]
    }
   ],
   "source": [
    "import pandas as pd\n",
    "X = pd.read_csv('US_Accidents_March23.csv', index_col = 0, usecols= [\"ID\",\"Severity\", \"State\", \"Temperature(F)\",\"Wind_Chill(F)\",\"Visibility(mi)\",\"Precipitation(in)\", \"Wind_Speed(mph)\", \"Weather_Condition\"]).dropna()\n",
    "X1 = X[[\"State\", \"Temperature(F)\",\"Wind_Chill(F)\",\"Visibility(mi)\",\"Precipitation(in)\", \"Wind_Speed(mph)\", \"Weather_Condition\"]]\n",
    "df_fixed = pd.get_dummies(X1,columns=[\"State\", \"Weather_Condition\"])\n",
    "print(df_fixed.columns)\n",
    "y = X[\"Severity\"]\n",
    "\n",
    "X_train, X_test, y_train, y_test = train_test_split(df_fixed, y,test_size=0.05)\n",
    "param_grid = {\"max_features\": ['sqrt', 'log2'], \"max_depth\": [2, 4, 6], \"n_estimators\" : [100,200,250]}\n",
    "forest = RandomForestClassifier(warm_start=False,oob_score=True)\n",
    "forest_gs = GridSearchCV(forest, param_grid, n_jobs=-1)\n",
    "forest_gs.fit(X_train, y_train)"
   ]
  },
  {
   "cell_type": "code",
   "execution_count": null,
   "metadata": {},
   "outputs": [
    {
     "ename": "NameError",
     "evalue": "name 'forest_gs' is not defined",
     "output_type": "error",
     "traceback": [
      "\u001b[0;31m---------------------------------------------------------------------------\u001b[0m",
      "\u001b[0;31mNameError\u001b[0m                                 Traceback (most recent call last)",
      "\u001b[1;32m/Users/anderson/Documents/crash-severity/notebooks/Dallin_CVForest.ipynb Cell 3\u001b[0m line \u001b[0;36m3\n\u001b[1;32m      <a href='vscode-notebook-cell:/Users/anderson/Documents/crash-severity/notebooks/Dallin_CVForest.ipynb#W2sZmlsZQ%3D%3D?line=0'>1</a>\u001b[0m \u001b[39mfrom\u001b[39;00m \u001b[39msklearn\u001b[39;00m\u001b[39m.\u001b[39;00m\u001b[39mmetrics\u001b[39;00m \u001b[39mimport\u001b[39;00m accuracy_score\n\u001b[0;32m----> <a href='vscode-notebook-cell:/Users/anderson/Documents/crash-severity/notebooks/Dallin_CVForest.ipynb#W2sZmlsZQ%3D%3D?line=2'>3</a>\u001b[0m f_pred \u001b[39m=\u001b[39m forest_gs\u001b[39m.\u001b[39mpredict(X_test)\n",
      "\u001b[0;31mNameError\u001b[0m: name 'forest_gs' is not defined"
     ]
    }
   ],
   "source": [
    "from sklearn.metrics import accuracy_score\n",
    "\n",
    "f_pred = forest_gs.predict(X_test)"
   ]
  },
  {
   "cell_type": "code",
   "execution_count": null,
   "metadata": {},
   "outputs": [],
   "source": [
    "print(\"Forest grid search best score = \",forest_gs.best_params_)\n",
    "print(print(\"Forest accuracy score = \",accuracy_score(y_test, f_pred)))"
   ]
  },
  {
   "cell_type": "code",
   "execution_count": null,
   "metadata": {},
   "outputs": [],
   "source": [
    "import pandas as pd\n",
    "X = pd.read_csv('US_Accidents_March23.csv', index_col = 0, usecols= [\"ID\",\"Severity\", \"State\", \"Temperature(F)\",\"Wind_Chill(F)\",\"Visibility(mi)\",\"Precipitation(in)\", \"Wind_Speed(mph)\", \"Weather_Condition\"]).dropna()\n",
    "X1 = X[[\"State\", \"Temperature(F)\",\"Wind_Chill(F)\",\"Visibility(mi)\",\"Precipitation(in)\", \"Wind_Speed(mph)\", \"Weather_Condition\"]]\n",
    "df_fixed = pd.get_dummies(X1,columns=[\"State\", \"Weather_Condition\"])\n",
    "print(df_fixed.columns)\n",
    "y = X[\"Severity\"]\n",
    "\n",
    "X_train, X_test, y_train, y_test = train_test_split(df_fixed, y,test_size=0.05)\n",
    "param_grid = {\"max_features\": ['sqrt', 'log2'], \"max_depth\": [2, 4, 6], \"n_estimators\" : [100,200,250]}\n",
    "forest = RandomForestClassifier(warm_start=False,oob_score=True)\n",
    "forest_gs = GridSearchCV(forest, param_grid, n_jobs=-1)\n",
    "forest_gs.fit(X_train, y_train)"
   ]
  },
  {
   "cell_type": "code",
   "execution_count": 12,
   "metadata": {},
   "outputs": [
    {
     "name": "stderr",
     "output_type": "stream",
     "text": [
      "/opt/homebrew/lib/python3.10/site-packages/joblib/externals/loky/process_executor.py:752: UserWarning: A worker stopped while some jobs were given to the executor. This can be caused by a too short worker timeout or by a memory leak.\n",
      "  warnings.warn(\n"
     ]
    },
    {
     "data": {
      "text/html": [
       "<style>#sk-container-id-1 {color: black;}#sk-container-id-1 pre{padding: 0;}#sk-container-id-1 div.sk-toggleable {background-color: white;}#sk-container-id-1 label.sk-toggleable__label {cursor: pointer;display: block;width: 100%;margin-bottom: 0;padding: 0.3em;box-sizing: border-box;text-align: center;}#sk-container-id-1 label.sk-toggleable__label-arrow:before {content: \"▸\";float: left;margin-right: 0.25em;color: #696969;}#sk-container-id-1 label.sk-toggleable__label-arrow:hover:before {color: black;}#sk-container-id-1 div.sk-estimator:hover label.sk-toggleable__label-arrow:before {color: black;}#sk-container-id-1 div.sk-toggleable__content {max-height: 0;max-width: 0;overflow: hidden;text-align: left;background-color: #f0f8ff;}#sk-container-id-1 div.sk-toggleable__content pre {margin: 0.2em;color: black;border-radius: 0.25em;background-color: #f0f8ff;}#sk-container-id-1 input.sk-toggleable__control:checked~div.sk-toggleable__content {max-height: 200px;max-width: 100%;overflow: auto;}#sk-container-id-1 input.sk-toggleable__control:checked~label.sk-toggleable__label-arrow:before {content: \"▾\";}#sk-container-id-1 div.sk-estimator input.sk-toggleable__control:checked~label.sk-toggleable__label {background-color: #d4ebff;}#sk-container-id-1 div.sk-label input.sk-toggleable__control:checked~label.sk-toggleable__label {background-color: #d4ebff;}#sk-container-id-1 input.sk-hidden--visually {border: 0;clip: rect(1px 1px 1px 1px);clip: rect(1px, 1px, 1px, 1px);height: 1px;margin: -1px;overflow: hidden;padding: 0;position: absolute;width: 1px;}#sk-container-id-1 div.sk-estimator {font-family: monospace;background-color: #f0f8ff;border: 1px dotted black;border-radius: 0.25em;box-sizing: border-box;margin-bottom: 0.5em;}#sk-container-id-1 div.sk-estimator:hover {background-color: #d4ebff;}#sk-container-id-1 div.sk-parallel-item::after {content: \"\";width: 100%;border-bottom: 1px solid gray;flex-grow: 1;}#sk-container-id-1 div.sk-label:hover label.sk-toggleable__label {background-color: #d4ebff;}#sk-container-id-1 div.sk-serial::before {content: \"\";position: absolute;border-left: 1px solid gray;box-sizing: border-box;top: 0;bottom: 0;left: 50%;z-index: 0;}#sk-container-id-1 div.sk-serial {display: flex;flex-direction: column;align-items: center;background-color: white;padding-right: 0.2em;padding-left: 0.2em;position: relative;}#sk-container-id-1 div.sk-item {position: relative;z-index: 1;}#sk-container-id-1 div.sk-parallel {display: flex;align-items: stretch;justify-content: center;background-color: white;position: relative;}#sk-container-id-1 div.sk-item::before, #sk-container-id-1 div.sk-parallel-item::before {content: \"\";position: absolute;border-left: 1px solid gray;box-sizing: border-box;top: 0;bottom: 0;left: 50%;z-index: -1;}#sk-container-id-1 div.sk-parallel-item {display: flex;flex-direction: column;z-index: 1;position: relative;background-color: white;}#sk-container-id-1 div.sk-parallel-item:first-child::after {align-self: flex-end;width: 50%;}#sk-container-id-1 div.sk-parallel-item:last-child::after {align-self: flex-start;width: 50%;}#sk-container-id-1 div.sk-parallel-item:only-child::after {width: 0;}#sk-container-id-1 div.sk-dashed-wrapped {border: 1px dashed gray;margin: 0 0.4em 0.5em 0.4em;box-sizing: border-box;padding-bottom: 0.4em;background-color: white;}#sk-container-id-1 div.sk-label label {font-family: monospace;font-weight: bold;display: inline-block;line-height: 1.2em;}#sk-container-id-1 div.sk-label-container {text-align: center;}#sk-container-id-1 div.sk-container {/* jupyter's `normalize.less` sets `[hidden] { display: none; }` but bootstrap.min.css set `[hidden] { display: none !important; }` so we also need the `!important` here to be able to override the default hidden behavior on the sphinx rendered scikit-learn.org. See: https://github.com/scikit-learn/scikit-learn/issues/21755 */display: inline-block !important;position: relative;}#sk-container-id-1 div.sk-text-repr-fallback {display: none;}</style><div id=\"sk-container-id-1\" class=\"sk-top-container\"><div class=\"sk-text-repr-fallback\"><pre>GridSearchCV(estimator=RandomForestClassifier(), n_jobs=-1,\n",
       "             param_grid={&#x27;max_depth&#x27;: [2, 4, 6],\n",
       "                         &#x27;max_features&#x27;: [&#x27;sqrt&#x27;, &#x27;log2&#x27;],\n",
       "                         &#x27;n_estimators&#x27;: [100, 200, 250, 300]})</pre><b>In a Jupyter environment, please rerun this cell to show the HTML representation or trust the notebook. <br />On GitHub, the HTML representation is unable to render, please try loading this page with nbviewer.org.</b></div><div class=\"sk-container\" hidden><div class=\"sk-item sk-dashed-wrapped\"><div class=\"sk-label-container\"><div class=\"sk-label sk-toggleable\"><input class=\"sk-toggleable__control sk-hidden--visually\" id=\"sk-estimator-id-1\" type=\"checkbox\" ><label for=\"sk-estimator-id-1\" class=\"sk-toggleable__label sk-toggleable__label-arrow\">GridSearchCV</label><div class=\"sk-toggleable__content\"><pre>GridSearchCV(estimator=RandomForestClassifier(), n_jobs=-1,\n",
       "             param_grid={&#x27;max_depth&#x27;: [2, 4, 6],\n",
       "                         &#x27;max_features&#x27;: [&#x27;sqrt&#x27;, &#x27;log2&#x27;],\n",
       "                         &#x27;n_estimators&#x27;: [100, 200, 250, 300]})</pre></div></div></div><div class=\"sk-parallel\"><div class=\"sk-parallel-item\"><div class=\"sk-item\"><div class=\"sk-label-container\"><div class=\"sk-label sk-toggleable\"><input class=\"sk-toggleable__control sk-hidden--visually\" id=\"sk-estimator-id-2\" type=\"checkbox\" ><label for=\"sk-estimator-id-2\" class=\"sk-toggleable__label sk-toggleable__label-arrow\">estimator: RandomForestClassifier</label><div class=\"sk-toggleable__content\"><pre>RandomForestClassifier()</pre></div></div></div><div class=\"sk-serial\"><div class=\"sk-item\"><div class=\"sk-estimator sk-toggleable\"><input class=\"sk-toggleable__control sk-hidden--visually\" id=\"sk-estimator-id-3\" type=\"checkbox\" ><label for=\"sk-estimator-id-3\" class=\"sk-toggleable__label sk-toggleable__label-arrow\">RandomForestClassifier</label><div class=\"sk-toggleable__content\"><pre>RandomForestClassifier()</pre></div></div></div></div></div></div></div></div></div></div>"
      ],
      "text/plain": [
       "GridSearchCV(estimator=RandomForestClassifier(), n_jobs=-1,\n",
       "             param_grid={'max_depth': [2, 4, 6],\n",
       "                         'max_features': ['sqrt', 'log2'],\n",
       "                         'n_estimators': [100, 200, 250, 300]})"
      ]
     },
     "execution_count": 12,
     "metadata": {},
     "output_type": "execute_result"
    }
   ],
   "source": [
    "\n",
    "X = pd.read_csv('US_Accidents_March23.csv', index_col = 0, usecols= [\"ID\",\"Severity\", \"Temperature(F)\",\"Wind_Chill(F)\",\"Wind_Direction\",\"Pressure(in)\",\"Visibility(mi)\",\"Humidity(%)\",\"Precipitation(in)\", \"Wind_Speed(mph)\", \"Weather_Condition\"]).dropna()\n",
    "X1 = X[[\"Temperature(F)\",\"Wind_Chill(F)\",\"Wind_Direction\",\"Pressure(in)\",\"Visibility(mi)\",\"Humidity(%)\",\"Precipitation(in)\", \"Wind_Speed(mph)\", \"Weather_Condition\"]]\n",
    "df_fixed = pd.get_dummies(X1,columns=[\"Weather_Condition\",\"Wind_Direction\"])\n",
    "y = X[\"Severity\"]\n",
    "\n",
    "X_train, X_test, y_train, y_test = train_test_split(df_fixed, y,test_size=0.05)\n",
    "\n",
    "param_grid = {\"max_features\": ['sqrt', 'log2'], \"max_depth\": [2, 4, 6], \"n_estimators\" : [100,200,250,300]}\n",
    "forest = RandomForestClassifier()\n",
    "forest_gs = GridSearchCV(forest, param_grid, n_jobs=-1)\n",
    "forest_gs.fit(X_train, y_train)\n"
   ]
  },
  {
   "cell_type": "code",
   "execution_count": 16,
   "metadata": {},
   "outputs": [
    {
     "name": "stdout",
     "output_type": "stream",
     "text": [
      "Best params: \n",
      "{'max_depth': 2, 'max_features': 'sqrt', 'n_estimators': 100}\n",
      "Accuracy score =  0.8516146770073202\n"
     ]
    }
   ],
   "source": [
    "#C = cross_validate(forest_gs, df_fixed, y, cv=7,scoring= 'accuracy',return_train_score=True)\n",
    "#mean = -C['train_score']\n",
    "from sklearn.metrics import accuracy_score\n",
    "print(\"Best params: \")\n",
    "print(forest_gs.best_params_)\n",
    "forest_pred = forest_gs.predict(X_test)\n",
    "\n",
    "print(\"Accuracy score = \",accuracy_score(y_test, forest_pred))"
   ]
  },
  {
   "cell_type": "code",
   "execution_count": 21,
   "metadata": {},
   "outputs": [
    {
     "data": {
      "text/plain": [
       "['forest_gs_model.pkl']"
      ]
     },
     "execution_count": 21,
     "metadata": {},
     "output_type": "execute_result"
    }
   ],
   "source": [
    "joblib.dump(forest_gs, \"forest_gs_model.pkl\")"
   ]
  },
  {
   "cell_type": "code",
   "execution_count": 23,
   "metadata": {},
   "outputs": [],
   "source": [
    "loaded_model = joblib.load(\"forest_gs_model.pkl\")"
   ]
  },
  {
   "cell_type": "code",
   "execution_count": 27,
   "metadata": {},
   "outputs": [
    {
     "name": "stdout",
     "output_type": "stream",
     "text": [
      "[-0.85224228 -0.85224228 -0.85224208 -0.85224232 -0.85224232 -0.85224232\n",
      " -0.85224232 -0.85224232]\n"
     ]
    }
   ],
   "source": [
    "X_train, X_test, y_train, y_test = train_test_split(df_fixed, y,test_size=0.1)\n",
    "forest = RandomForestClassifier(max_depth= 2, max_features= 'sqrt', n_estimators= 100)\n",
    "C = cross_validate(forest, X_train, y_train, cv=8,scoring= 'accuracy',return_train_score=True)\n",
    "mean = -C['train_score']"
   ]
  },
  {
   "cell_type": "code",
   "execution_count": 28,
   "metadata": {},
   "outputs": [
    {
     "name": "stdout",
     "output_type": "stream",
     "text": [
      "[-0.85224228 -0.85224228 -0.85224208 -0.85224232 -0.85224232 -0.85224232\n",
      " -0.85224232 -0.85224232]\n"
     ]
    }
   ],
   "source": [
    "print(mean)"
   ]
  }
 ],
 "metadata": {
  "kernelspec": {
   "display_name": "Python 3",
   "language": "python",
   "name": "python3"
  },
  "language_info": {
   "codemirror_mode": {
    "name": "ipython",
    "version": 3
   },
   "file_extension": ".py",
   "mimetype": "text/x-python",
   "name": "python",
   "nbconvert_exporter": "python",
   "pygments_lexer": "ipython3",
   "version": "3.10.15"
  }
 },
 "nbformat": 4,
 "nbformat_minor": 2
}
