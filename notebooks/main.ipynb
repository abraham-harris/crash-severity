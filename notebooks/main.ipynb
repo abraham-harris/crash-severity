{
 "cells": [
  {
   "cell_type": "code",
   "execution_count": 1,
   "metadata": {},
   "outputs": [],
   "source": [
    "from sklearn.ensemble import RandomForestClassifier\n",
    "from sklearn.model_selection import train_test_split\n",
    "from sklearn.model_selection import GridSearchCV\n",
    "from sklearn import metrics\n",
    "\n",
    "import pandas as pd"
   ]
  },
  {
   "cell_type": "markdown",
   "metadata": {},
   "source": [
    "## Data Cleaning\n",
    "In order to access data, first download the US_Accidents_March23.csv from https://www.kaggle.com/datasets/sobhanmoosavi/us-accidents/data. You can also view information about the dataset at that link. Store this file in `crash-severity/data/US_Accidents_March23.csv`."
   ]
  },
  {
   "cell_type": "code",
   "execution_count": null,
   "metadata": {},
   "outputs": [],
   "source": [
    "# Read data\n",
    "cols = [\"Severity\", \"Start_Lat\", \"Temperature(F)\", \"Visibility(mi)\", \"Wind_Speed(mph)\", \"Weather_Condition\"]\n",
    "data = pd.read_csv(\"../data/US_Accidents_March23.csv\", usecols=cols)\n",
    "\n",
    "# Trim for testing\n",
    "data = data.iloc[0:5000]\n",
    "data.dropna(how=\"any\", axis=0)\n",
    "data = pd.get_dummies(data, columns=[\"Weather_Condition\"], dtype=float)\n",
    "\n",
    "# Features and targets\n",
    "accident_X = data[data.columns.tolist()[1:]]\n",
    "accident_y = data[\"Severity\"]\n",
    "\n",
    "# Train/test split\n",
    "X_train, X_test, y_train, y_test = train_test_split(accident_X, accident_y, test_size=0.8)"
   ]
  }
 ],
 "metadata": {
  "kernelspec": {
   "display_name": "Python 3",
   "language": "python",
   "name": "python3"
  },
  "language_info": {
   "codemirror_mode": {
    "name": "ipython",
    "version": 3
   },
   "file_extension": ".py",
   "mimetype": "text/x-python",
   "name": "python",
   "nbconvert_exporter": "python",
   "pygments_lexer": "ipython3",
   "version": "3.10.12"
  }
 },
 "nbformat": 4,
 "nbformat_minor": 2
}
