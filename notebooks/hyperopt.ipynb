{
 "cells": [
  {
   "cell_type": "code",
   "execution_count": 1,
   "id": "0ff0b331",
   "metadata": {},
   "outputs": [
    {
     "ename": "ModuleNotFoundError",
     "evalue": "No module named 'hyperopt'",
     "output_type": "error",
     "traceback": [
      "\u001b[0;31m---------------------------------------------------------------------------\u001b[0m",
      "\u001b[0;31mModuleNotFoundError\u001b[0m                       Traceback (most recent call last)",
      "Input \u001b[0;32mIn [1]\u001b[0m, in \u001b[0;36m<cell line: 1>\u001b[0;34m()\u001b[0m\n\u001b[0;32m----> 1\u001b[0m \u001b[38;5;28;01mfrom\u001b[39;00m \u001b[38;5;21;01mhyperopt\u001b[39;00m \u001b[38;5;28;01mimport\u001b[39;00m tpe, hp, fmin\n",
      "\u001b[0;31mModuleNotFoundError\u001b[0m: No module named 'hyperopt'"
     ]
    }
   ],
   "source": [
    "from hyperopt import tpe, hp, fmin, STATUS_OK, Trials"
   ]
  },
  {
   "cell_type": "code",
   "execution_count": null,
   "id": "a1baa471",
   "metadata": {},
   "outputs": [],
   "source": [
    "# create objective function\n",
    "def get_objective(model, metric_func):\n",
    "    def objective(params):\n",
    "        classifier = model(**params)\n",
    "        classifier.fit(X_train, y_train)\n",
    "        y_pred = classifier.predict(X_test)\n",
    "        score = metric_func(y_test, y_pred)\n",
    "        return {\"loss\": -score, \"status\": STATUS_OK}"
   ]
  },
  {
   "cell_type": "code",
   "execution_count": null,
   "id": "4bc9f03a",
   "metadata": {},
   "outputs": [],
   "source": [
    "# define search space\n",
    "space = {\n",
    "    \"eta\": hp.uniform(\"learning_rate\", 1e-4, 1),\n",
    "    \"gamma\": hp.uniform(\"gamma\", 0, 1),\n",
    "    \"max_depth\": hp.randint(\"max_depth\", 1, 21),\n",
    "    \"min_child_weight\":, hp.randint(\"min_child_weight\", 1, 11),\n",
    "    \"subsample\": hp.uniform(\"subsample\", 1e-4, 1),\n",
    "    \"sampling_method\": hp.choice(\"sampling_method\", \"uniform\", \"gradient_based\"),\n",
    "    \"colsample_bytree\": hp.uniform(\"colsample_bytree\", 1e-4, 1),\n",
    "    \"lambda\": hp.uniform(\"lambda\", 0, 10),\n",
    "    \"alpha\": hp.uniform(\"alpha\", 0, 10),\n",
    "    \"max_leaves\": hp.randint(\"max_leaves\", 1, 51),\n",
    "    \"n_estimators\": hp.randint(\"num_boosting_rounds\", 1, 101)\n",
    "    "
   ]
  },
  {
   "cell_type": "code",
   "execution_count": null,
   "id": "58b4e2a9",
   "metadata": {},
   "outputs": [],
   "source": [
    "# run optimization\n",
    "N = 100\n",
    "\n",
    "trials = Trials()\n",
    "hyperparameters = fmin(fn=objective, space=space, algo=tpe.suggest, max_evals=N, trials=trials, rstate=5312)\n",
    "\n",
    "print(\"Best hyperparameters:\", hyperparameters)"
   ]
  }
 ],
 "metadata": {
  "kernelspec": {
   "display_name": "Python 3 (ipykernel)",
   "language": "python",
   "name": "python3"
  },
  "language_info": {
   "codemirror_mode": {
    "name": "ipython",
    "version": 3
   },
   "file_extension": ".py",
   "mimetype": "text/x-python",
   "name": "python",
   "nbconvert_exporter": "python",
   "pygments_lexer": "ipython3",
   "version": "3.10.12"
  }
 },
 "nbformat": 4,
 "nbformat_minor": 5
}
